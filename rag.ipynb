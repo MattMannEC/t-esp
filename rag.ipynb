{
 "cells": [
  {
   "cell_type": "code",
   "execution_count": 7,
   "metadata": {},
   "outputs": [],
   "source": [
    "from langchain_community.document_loaders import PyPDFLoader\n",
    "from langchain_text_splitters import RecursiveCharacterTextSplitter\n",
    "from chroma_store import chroma_store\n",
    "\n",
    "\n",
    "\n",
    "from langchain_community.document_loaders import PyPDFLoader\n",
    "\n",
    "# file_path = \"./code-de-travail.pdf\" # https://www.legifrance.gouv.fr/download/pdf/legiOrKali?id=LEGITEXT000006072050.pdf&size=7%20Mo&pathToFile=/LEGI/TEXT/00/00/06/07/20/50/LEGITEXT000006072050/LEGITEXT000006072050.pdf&title=Code%20du%20travail\n",
    "# loader = PyPDFLoader(file_path)\n",
    "# data = loader.load()\n",
    "# print(\"Document loaded\")\n",
    "# text_splitter = RecursiveCharacterTextSplitter(chunk_size=300, chunk_overlap=100)\n",
    "# all_splits = text_splitter.split_documents(data)\n",
    "# chroma_store = chroma_store.from_documents(documents=all_splits, embedding=embeddings_model)\n",
    "# print(\"Vectors stored\")\n"
   ]
  },
  {
   "cell_type": "code",
   "execution_count": null,
   "metadata": {},
   "outputs": [],
   "source": []
  },
  {
   "cell_type": "code",
   "execution_count": 10,
   "metadata": {},
   "outputs": [
    {
     "name": "stdout",
     "output_type": "stream",
     "text": [
      " Bien sûr, je tente de répondre avec précision. Cependant, il n'y a pas de réponse exhaustive sans connaître les détails contratuellement et juridiquement de votre situation. En général, le travail supplémentaire (heures supplémentaires ou \"heures sup\") est une question complexe en matière de droit du travail français. La loi oblige l'employeur à offrir des indemnités pour ces heures supplémentaires (article L. 3121-2 du Code du Travail). Si votre contrat de travail ne mentionne rien d'heures supplémentaires et que vous n'avez pas consenti à travailler en sus de vos heures normales, votre patron ne peut vous forcer à le faire. Toutefois, si des dispositions contractuelles ou collectives existent relatives aux heures sup, il est préconisable de consulter une expertise juridique."
     ]
    },
    {
     "data": {
      "text/plain": [
       "' Bien sûr, je tente de répondre avec précision. Cependant, il n\\'y a pas de réponse exhaustive sans connaître les détails contratuellement et juridiquement de votre situation. En général, le travail supplémentaire (heures supplémentaires ou \"heures sup\") est une question complexe en matière de droit du travail français. La loi oblige l\\'employeur à offrir des indemnités pour ces heures supplémentaires (article L. 3121-2 du Code du Travail). Si votre contrat de travail ne mentionne rien d\\'heures supplémentaires et que vous n\\'avez pas consenti à travailler en sus de vos heures normales, votre patron ne peut vous forcer à le faire. Toutefois, si des dispositions contractuelles ou collectives existent relatives aux heures sup, il est préconisable de consulter une expertise juridique.'"
      ]
     },
     "execution_count": 10,
     "metadata": {},
     "output_type": "execute_result"
    }
   ],
   "source": [
    "from langchain_core.output_parsers import StrOutputParser\n",
    "from langchain_core.prompts import ChatPromptTemplate\n",
    "\n",
    "def format_docs(docs):\n",
    "    return \"\\n\\n\".join(doc.page_content for doc in docs)\n",
    "\n",
    "\n",
    "from langchain.callbacks.manager import CallbackManager\n",
    "from langchain_core.callbacks import StreamingStdOutCallbackHandler\n",
    "from langchain_community.llms import Ollama\n",
    "from langchain_core.runnables import RunnablePassthrough\n",
    "\n",
    "RAG_TEMPLATE = \"\"\"\n",
    "Vous êtes un assistant qui rend le droit français plus accessible au grand public.\n",
    "Utilisez les informations suivantes pour répondre à la question posée.\n",
    "L'exactitude est primordiale : si vous ne connaissez pas la réponse, indiquez simplement que vous ne savez pas.\n",
    "La réponse doit être en français et comporter au maximum 800 caractères.\n",
    "\n",
    "<context>\n",
    "{context}\n",
    "</context>\n",
    "\n",
    "Répondez à la question suivante:\n",
    "\n",
    "{question}\"\"\"\n",
    "\n",
    "rag_prompt = ChatPromptTemplate.from_template(RAG_TEMPLATE)\n",
    "llm = Ollama(model=\"mistral:latest\", verbose=True, callback_manager=CallbackManager([StreamingStdOutCallbackHandler()]))\n",
    "chain = (\n",
    "    RunnablePassthrough.assign(context=lambda input: format_docs(input[\"context\"]))\n",
    "    | rag_prompt\n",
    "    | llm\n",
    "    | StrOutputParser()\n",
    ")\n",
    "print(\"Chain loaded\")\n",
    "\n",
    "question = \"Je suis serveur dans un bar, est-ce que mon patron peut me forcer à faire des heures supp ?\"\n",
    "\n",
    "docs = chroma_store.similarity_search(question)\n",
    "print(\"Context loaded\")\n",
    "\n",
    "# Run\n",
    "print(\"Running chain\")\n",
    "chain.invoke({\"context\": docs, \"question\": question})"
   ]
  },
  {
   "cell_type": "code",
   "execution_count": null,
   "metadata": {},
   "outputs": [],
   "source": []
  }
 ],
 "metadata": {
  "kernelspec": {
   "display_name": "Python 3 (ipykernel)",
   "language": "python",
   "name": "python3"
  },
  "language_info": {
   "codemirror_mode": {
    "name": "ipython",
    "version": 3
   },
   "file_extension": ".py",
   "mimetype": "text/x-python",
   "name": "python",
   "nbconvert_exporter": "python",
   "pygments_lexer": "ipython3",
   "version": "3.11.9"
  }
 },
 "nbformat": 4,
 "nbformat_minor": 4
}
