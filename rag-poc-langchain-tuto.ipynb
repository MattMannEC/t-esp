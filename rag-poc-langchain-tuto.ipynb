{
 "cells": [
  {
   "cell_type": "code",
   "execution_count": 1,
   "id": "d3c23c0e-e083-4cf0-95db-391338201874",
   "metadata": {},
   "outputs": [
    {
     "name": "stdout",
     "output_type": "stream",
     "text": [
      "Web page loaded successfully\n"
     ]
    }
   ],
   "source": [
    "from langchain_community.llms import Ollama\n",
    "from langchain_chroma import Chroma\n",
    "from langchain import hub\n",
    "from langchain.chains.retrieval_qa.base import RetrievalQA\n",
    "from langchain.callbacks.manager import CallbackManager\n",
    "from langchain_community.document_loaders import WebBaseLoader\n",
    "from langchain_text_splitters.character import RecursiveCharacterTextSplitter\n",
    "from langchain_core.callbacks import StreamingStdOutCallbackHandler\n",
    "from langchain_community.embeddings import GPT4AllEmbeddings\n",
    "from langchain_core.runnables import RunnablePassthrough\n",
    "from langchain_core.output_parsers import StrOutputParser\n",
    "\n",
    "\n",
    "from langchain_community.embeddings.sentence_transformer import (\n",
    "    SentenceTransformerEmbeddings,\n",
    ")\n",
    "\n",
    "loader = WebBaseLoader(\"https://en.wikipedia.org/wiki/2023%E2%80%9324_Premier_League\")\n",
    "data = loader.load()\n",
    "print(\"Web page loaded successfully\")"
   ]
  },
  {
   "cell_type": "code",
   "execution_count": 2,
   "id": "badf9da7-05c6-4f47-8967-82296ca40071",
   "metadata": {},
   "outputs": [
    {
     "name": "stdout",
     "output_type": "stream",
     "text": [
      "Split 84 chunks\n"
     ]
    }
   ],
   "source": [
    "text_splitter = RecursiveCharacterTextSplitter(chunk_size=1000, chunk_overlap=100)\n",
    "splits = text_splitter.split_documents(data)\n",
    "print(f\"Split {len(splits)} chunks\")"
   ]
  },
  {
   "cell_type": "code",
   "execution_count": 3,
   "id": "13bca0de-779d-4ef1-8a93-5658e485187d",
   "metadata": {},
   "outputs": [
    {
     "name": "stdout",
     "output_type": "stream",
     "text": [
      "Storing into ChromaDB...\n"
     ]
    },
    {
     "name": "stderr",
     "output_type": "stream",
     "text": [
      "/home/unix/epitech/T-ESP/.esp/lib/python3.11/site-packages/tqdm/auto.py:21: TqdmWarning: IProgress not found. Please update jupyter and ipywidgets. See https://ipywidgets.readthedocs.io/en/stable/user_install.html\n",
      "  from .autonotebook import tqdm as notebook_tqdm\n",
      "/home/unix/epitech/T-ESP/.esp/lib/python3.11/site-packages/huggingface_hub/file_download.py:1132: FutureWarning: `resume_download` is deprecated and will be removed in version 1.0.0. Downloads always resume when possible. If you want to force a new download, use `force_download=True`.\n",
      "  warnings.warn(\n"
     ]
    },
    {
     "name": "stdout",
     "output_type": "stream",
     "text": [
      "Done storing into ChromaDB.\n"
     ]
    }
   ],
   "source": [
    "print(\"Storing into ChromaDB...\")\n",
    "# create the open-source embedding function\n",
    "embedding_function = SentenceTransformerEmbeddings(model_name=\"all-MiniLM-L6-v2\")\n",
    "db = Chroma.from_documents(splits, embedding_function)\n",
    "print(\"Done storing into ChromaDB.\")"
   ]
  },
  {
   "cell_type": "code",
   "execution_count": 4,
   "id": "ff0bc7fc-f9f7-416f-b422-c4db5af3d064",
   "metadata": {},
   "outputs": [],
   "source": [
    "# # query it\n",
    "# query = \"Who won the premier league ?\"\n",
    "# docs = db.similarity_search(query)\n",
    "\n",
    "# # print results\n",
    "# print(docs[0].page_content)"
   ]
  },
  {
   "cell_type": "code",
   "execution_count": 5,
   "id": "3e0ffa04-e811-417d-8879-2dcab500c18f",
   "metadata": {},
   "outputs": [],
   "source": [
    "# Retrieve and generate using the relevant snippets of the blog.\n",
    "retriever = db.as_retriever()\n",
    "prompt = hub.pull(\"rlm/rag-prompt\")\n",
    "\n",
    "\n",
    "def format_docs(docs):\n",
    "    return \"\\n\\n\".join(doc.page_content for doc in docs)\n",
    "\n",
    "llm = Ollama(\n",
    "    model=\"mistral\",\n",
    "    callback_manager=CallbackManager([StreamingStdOutCallbackHandler()]),\n",
    "    base_url=\"http://localhost:11434\"\n",
    ")\n",
    "rag_chain = (\n",
    "    {\"context\": retriever | format_docs, \"question\": RunnablePassthrough()}\n",
    "    | prompt\n",
    "    | llm\n",
    "    | StrOutputParser()\n",
    ")\n",
    "\n"
   ]
  },
  {
   "cell_type": "code",
   "execution_count": 6,
   "id": "77febb67-0c27-4622-bb88-aad5da46fcb2",
   "metadata": {},
   "outputs": [
    {
     "name": "stdout",
     "output_type": "stream",
     "text": [
      " Manchester City won the premier league title in the 2023-24 season. [Refer to context: \"Manchester City wins record fourth consecutive Premier League title, the first men's team in English league history to achieve this feat\".]"
     ]
    },
    {
     "data": {
      "text/plain": [
       "' Manchester City won the premier league title in the 2023-24 season. [Refer to context: \"Manchester City wins record fourth consecutive Premier League title, the first men\\'s team in English league history to achieve this feat\".]'"
      ]
     },
     "execution_count": 6,
     "metadata": {},
     "output_type": "execute_result"
    }
   ],
   "source": [
    "rag_chain.invoke(\"Who won the premier league title in the 2024/2025 season ? The answer MUST be accurate. If you don't know the answer, just says so.\")"
   ]
  },
  {
   "cell_type": "code",
   "execution_count": null,
   "id": "c6240e59-c379-46ac-b876-c1bbf638373e",
   "metadata": {},
   "outputs": [],
   "source": []
  }
 ],
 "metadata": {
  "kernelspec": {
   "display_name": "Python 3 (ipykernel)",
   "language": "python",
   "name": "python3"
  },
  "language_info": {
   "codemirror_mode": {
    "name": "ipython",
    "version": 3
   },
   "file_extension": ".py",
   "mimetype": "text/x-python",
   "name": "python",
   "nbconvert_exporter": "python",
   "pygments_lexer": "ipython3",
   "version": "3.11.2"
  }
 },
 "nbformat": 4,
 "nbformat_minor": 5
}
