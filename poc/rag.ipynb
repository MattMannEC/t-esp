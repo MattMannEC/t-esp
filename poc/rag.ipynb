{
 "cells": [
  {
   "cell_type": "code",
   "execution_count": 1,
   "metadata": {},
   "outputs": [
    {
     "name": "stderr",
     "output_type": "stream",
     "text": [
      "/home/unix/.pyenv/versions/t-esp/lib/python3.11/site-packages/sentence_transformers/cross_encoder/CrossEncoder.py:11: TqdmWarning: IProgress not found. Please update jupyter and ipywidgets. See https://ipywidgets.readthedocs.io/en/stable/user_install.html\n",
      "  from tqdm.autonotebook import tqdm, trange\n",
      "/home/unix/.pyenv/versions/t-esp/lib/python3.11/site-packages/transformers/tokenization_utils_base.py:1601: FutureWarning: `clean_up_tokenization_spaces` was not set. It will be set to `True` by default. This behavior will be depracted in transformers v4.45, and will be then set to `False` by default. For more details check this issue: https://github.com/huggingface/transformers/issues/31884\n",
      "  warnings.warn(\n"
     ]
    },
    {
     "name": "stdout",
     "output_type": "stream",
     "text": [
      "Document loaded\n",
      "Vectors stored\n"
     ]
    }
   ],
   "source": [
    "from langchain_community.document_loaders import PyPDFLoader\n",
    "from langchain_text_splitters import RecursiveCharacterTextSplitter\n",
    "\n",
    "from langchain_huggingface import HuggingFaceEmbeddings\n",
    "from chroma_store import chroma_store\n",
    "\n",
    "from langchain_community.document_loaders import PyPDFLoader\n",
    "\n",
    "file_path = \"./constitution-1958.pdf\" # https://www.legifrance.gouv.fr/download/pdf/legiOrKali?id=LEGITEXT000006072050.pdf&size=7%20Mo&pathToFile=/LEGI/TEXT/00/00/06/07/20/50/LEGITEXT000006072050/LEGITEXT000006072050.pdf&title=Code%20du%20travail\n",
    "loader = PyPDFLoader(file_path)\n",
    "data = loader.load()\n",
    "print(\"Document loaded\")\n",
    "text_splitter = RecursiveCharacterTextSplitter(chunk_size=300, chunk_overlap=100)\n",
    "all_splits = text_splitter.split_documents(data)\n",
    "chroma_store.add_documents(documents=all_splits)\n",
    "print(\"Vectors stored\")\n"
   ]
  },
  {
   "cell_type": "code",
   "execution_count": null,
   "metadata": {},
   "outputs": [],
   "source": []
  },
  {
   "cell_type": "code",
   "execution_count": 2,
   "metadata": {},
   "outputs": [
    {
     "name": "stdout",
     "output_type": "stream",
     "text": [
      "Chain loaded\n",
      "[Document(metadata={'page': 2, 'source': './constitution-1958.pdf'}, page_content=\"République et l'élection de son successeur.\\nAr ticle 8\\nLe Président de la République nomme le Premier ministre. Il met fin à ses fonctions sur la présentation par celui-ci de la démission du\\nGouvernement.\"), Document(metadata={'page': 2, 'source': './constitution-1958.pdf'}, page_content=\"République ou durant la période qui s'écoule entre la déclaration du caractère définitif de l'empêchement du Président de la\\nRépublique et l'élection de son successeur.\\nAr ticle 8\"), Document(metadata={'page': 0, 'source': './constitution-1958.pdf'}, page_content='professionnelles et sociales.\\nTitr e pr emier : De la sou v er ain eté (Ar ticles 2 à 4)\\nAr ticle 2\\nLa langue de la République est le français.\\nL\\'emblème national est le drapeau tricolore, bleu, blanc, rouge.\\nL\\'hymne national est la \" Marseillaise \".'), Document(metadata={'page': 2, 'source': './constitution-1958.pdf'}, page_content=\"République, à l'exception de celles prévues aux articles 11 et 12 ci-dessous, sont provisoirement exercées par le Président du Sénat et,\\nsi celui-ci est à son tour empêché d'exercer ces fonctions, par le Gouvernement.\")]\n",
      "Context loaded\n",
      "Running chain\n"
     ]
    }
   ],
   "source": [
    "from langchain_core.output_parsers import StrOutputParser\n",
    "from langchain_core.prompts import ChatPromptTemplate\n",
    "\n",
    "def format_docs(docs):\n",
    "    return \"\\n\\n\".join(doc.page_content for doc in docs)\n",
    "\n",
    "\n",
    "from langchain.callbacks.manager import CallbackManager\n",
    "from langchain_core.callbacks import StreamingStdOutCallbackHandler\n",
    "from langchain_community.llms import Ollama\n",
    "from langchain_core.runnables import RunnablePassthrough\n",
    "\n",
    "RAG_TEMPLATE = \"\"\"\n",
    "Vous êtes un assistant qui rend le droit français plus accessible au grand public.\n",
    "Utilisez les informations suivantes pour répondre à la question posée.\n",
    "L'exactitude est primordiale : si vous ne connaissez pas la réponse, indiquez simplement que vous ne savez pas.\n",
    "La réponse doit être en français et comporter au maximum 800 caractères.\n",
    "\n",
    "<context>\n",
    "{context}\n",
    "</context>\n",
    "\n",
    "Répondez à la question suivante:\n",
    "\n",
    "{question}\"\"\"\n",
    "\n",
    "rag_prompt = ChatPromptTemplate.from_template(RAG_TEMPLATE)\n",
    "llm = Ollama(model=\"mistral:latest\", verbose=True, callback_manager=CallbackManager([StreamingStdOutCallbackHandler()]))\n",
    "chain = (\n",
    "    RunnablePassthrough.assign(context=lambda input: format_docs(input[\"context\"]))\n",
    "    | rag_prompt\n",
    "    | llm\n",
    "    | StrOutputParser()\n",
    ")\n",
    "print(\"Chain loaded\")\n",
    "\n",
    "question = \"Quelle est la langue de la république ?\"\n",
    "\n",
    "docs = chroma_store.similarity_search(question)\n",
    "print(docs)\n",
    "print(\"Context loaded\")\n",
    "\n",
    "# Run\n",
    "print(\"Running chain\")\n",
    "chain.invoke({\"context\": docs, \"question\": question})"
   ]
  },
  {
   "cell_type": "code",
   "execution_count": null,
   "metadata": {},
   "outputs": [],
   "source": []
  }
 ],
 "metadata": {
  "kernelspec": {
   "display_name": "t-esp",
   "language": "python",
   "name": "python3"
  },
  "language_info": {
   "codemirror_mode": {
    "name": "ipython",
    "version": 3
   },
   "file_extension": ".py",
   "mimetype": "text/x-python",
   "name": "python",
   "nbconvert_exporter": "python",
   "pygments_lexer": "ipython3",
   "version": "3.11.9"
  }
 },
 "nbformat": 4,
 "nbformat_minor": 4
}
