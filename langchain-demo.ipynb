{
 "cells": [
  {
   "cell_type": "code",
   "execution_count": 1,
   "id": "d3c23c0e-e083-4cf0-95db-391338201874",
   "metadata": {},
   "outputs": [],
   "source": [
    "from langchain_community.llms import Ollama\n",
    "from langchain.callbacks.manager import CallbackManager\n",
    "from langchain_community.document_loaders import WebBaseLoader\n",
    "from langchain_core.callbacks import StreamingStdOutCallbackHandler\n",
    "llm = Ollama(model=\"mistral\", callback_manager=CallbackManager([StreamingStdOutCallbackHandler()]))"
   ]
  },
  {
   "cell_type": "code",
   "execution_count": 2,
   "id": "badf9da7-05c6-4f47-8967-82296ca40071",
   "metadata": {},
   "outputs": [],
   "source": [
    "from langchain_core.output_parsers import StrOutputParser\n",
    "output_parser = StrOutputParser()"
   ]
  },
  {
   "cell_type": "code",
   "execution_count": 3,
   "id": "13bca0de-779d-4ef1-8a93-5658e485187d",
   "metadata": {},
   "outputs": [],
   "source": [
    "from langchain_core.prompts import ChatPromptTemplate\n",
    "prompt = ChatPromptTemplate.from_messages([\n",
    "    (\"system\", \"You are world class technical documentation writer.\"),\n",
    "    (\"user\", \"{input}\")\n",
    "])\n",
    "\n",
    "chain = prompt | llm | output_parser"
   ]
  },
  {
   "cell_type": "code",
   "execution_count": 4,
   "id": "ff0bc7fc-f9f7-416f-b422-c4db5af3d064",
   "metadata": {},
   "outputs": [
    {
     "name": "stdout",
     "output_type": "stream",
     "text": [
      " I'm a technical documentation writer and don't have the ability to access real-time sports data or information. The English Premier League (EPL) winner for the 2023/2024 season is not known as of now, as this season has not yet taken place. You may check the official EPL website, sports news channels, or wait until the end of the season to find out who will win it."
     ]
    },
    {
     "data": {
      "text/plain": [
       "\" I'm a technical documentation writer and don't have the ability to access real-time sports data or information. The English Premier League (EPL) winner for the 2023/2024 season is not known as of now, as this season has not yet taken place. You may check the official EPL website, sports news channels, or wait until the end of the season to find out who will win it.\""
      ]
     },
     "execution_count": 4,
     "metadata": {},
     "output_type": "execute_result"
    }
   ],
   "source": [
    "chain.invoke({\"input\": \"Who won the english premier league during the 2023/2024 season ?\"})"
   ]
  },
  {
   "cell_type": "code",
   "execution_count": null,
   "id": "3e0ffa04-e811-417d-8879-2dcab500c18f",
   "metadata": {},
   "outputs": [],
   "source": []
  }
 ],
 "metadata": {
  "kernelspec": {
   "display_name": "Python 3 (ipykernel)",
   "language": "python",
   "name": "python3"
  },
  "language_info": {
   "codemirror_mode": {
    "name": "ipython",
    "version": 3
   },
   "file_extension": ".py",
   "mimetype": "text/x-python",
   "name": "python",
   "nbconvert_exporter": "python",
   "pygments_lexer": "ipython3",
   "version": "3.11.2"
  }
 },
 "nbformat": 4,
 "nbformat_minor": 5
}
