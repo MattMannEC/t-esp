{
 "cells": [
  {
   "cell_type": "code",
   "execution_count": 1,
   "metadata": {},
   "outputs": [],
   "source": [
    "from langchain_core.messages import (\n",
    "    AIMessage,\n",
    "    HumanMessage,\n",
    ")\n",
    "chat_history = [HumanMessage(content='Combien de fois peut le président être élu ?', additional_kwargs={}, response_metadata={}, id='1a3082ed-6a81-48c9-a177-b6e3d8b83ec8'),\n",
    "                  AIMessage(content=\"Le président peut être élu à deux reprises consécutives, en vertu de l'article 6 de la Constitution.\", additional_kwargs={}, response_metadata={}, id='f501016e-cbeb-48a1-b43b-dd3dee48a352'),\n",
    "                  HumanMessage(content='Comment fonctionne le système des deux tours ?', additional_kwargs={}, response_metadata={}, id='b9b7390b-54c9-43b4-bcd9-5ad7a3acaa7f'),\n",
    "                  AIMessage(content=\"Dans les élections du Président de la République française, si aucun candidat n'obtient la majorité absolue des suffrages exprimés au premier tour, un second tour est organisé quinze jours plus tard. Seuls les deux candidats ayant recueilli le plus grand nombre de suffrages peuvent s'y présenter. Le scrutin est ouvert sur convocation du gouvernement. L'élection a lieu entre vingt et trente-cinq jours avant l'expiration des pouvoirs du Président en exercice. En cas de décès ou d'empêchement d'un candidat avant les retraits éventuels, un nouveau scrutin est organisé. Le Conseil constitutionnel est saisi dans chaque cas pour déterminer la nouvelle date de l'élection.\", additional_kwargs={}, response_metadata={}, id='84277be5-7cea-48b3-872a-6041f80a3cb4')]"
   ]
  },
  {
   "cell_type": "code",
   "execution_count": null,
   "metadata": {},
   "outputs": [
    {
     "name": "stderr",
     "output_type": "stream",
     "text": [
      "/home/unix/.pyenv/versions/t-esp/lib/python3.11/site-packages/tqdm/auto.py:21: TqdmWarning: IProgress not found. Please update jupyter and ipywidgets. See https://ipywidgets.readthedocs.io/en/stable/user_install.html\n",
      "  from .autonotebook import tqdm as notebook_tqdm\n"
     ]
    },
    {
     "name": "stdout",
     "output_type": "stream",
     "text": [
      "Downloading the summarization model...\n",
      "Make prompt template...\n",
      "Create LangChain summarization chain...\n",
      "Convert chat history to string...\n",
      "Generate summary...\n",
      "Résumé : le président peut être élu à deux reprises consécutives, en vertu de l'article 6 de la Constitution . le scrutin est ouvert sur convocation du gouvernement . si aucun candidat n'obtient la majorité absolue des suffrages exprimés au premier tour .\n"
     ]
    }
   ],
   "source": [
    "from langchain.schema import AIMessage, HumanMessage, BaseMessage\n",
    "from langchain.chains.llm import LLMChain\n",
    "from langchain.prompts import PromptTemplate\n",
    "from langchain_huggingface import HuggingFacePipeline\n",
    "from transformers import pipeline\n",
    "from dataclasses import dataclass\n",
    "\n",
    "def convert_chat_history_to_string(chat_history: list[BaseMessage]) -> str:\n",
    "    conversation = \"\"\n",
    "    for message in chat_history:\n",
    "        if isinstance(message, HumanMessage):\n",
    "            conversation += f\"Utilisateur : {message.content}\\n\"\n",
    "        elif isinstance(message, AIMessage):\n",
    "            conversation += f\"IA : {message.content}\\n\"\n",
    "    return conversation\n",
    "\n",
    "summarization_pipeline = pipeline(\"summarization\", model=\"google-t5/t5-small\")\n",
    "llm = HuggingFacePipeline(pipeline=summarization_pipeline)\n",
    "\n",
    "prompt_template = PromptTemplate(\n",
    "    input_variables=[\"conversation\"],\n",
    "    template=(\n",
    "        \"Résumé la conversation suivante de manière concise et claire :\\n\\n\"\n",
    "        \"{conversation}\\n\\n\"\n",
    "        \"Résumé :\"\n",
    "    ),\n",
    ")\n",
    "\n",
    "summarization_chain = prompt_template | llm\n",
    "conversation = convert_chat_history_to_string(chat_history)\n",
    "summary: str = summarization_chain.invoke(input={\"conversation\": conversation})\n"
   ]
  }
 ],
 "metadata": {
  "kernelspec": {
   "display_name": "t-esp",
   "language": "python",
   "name": "python3"
  },
  "language_info": {
   "codemirror_mode": {
    "name": "ipython",
    "version": 3
   },
   "file_extension": ".py",
   "mimetype": "text/x-python",
   "name": "python",
   "nbconvert_exporter": "python",
   "pygments_lexer": "ipython3",
   "version": "3.11.9"
  }
 },
 "nbformat": 4,
 "nbformat_minor": 2
}
